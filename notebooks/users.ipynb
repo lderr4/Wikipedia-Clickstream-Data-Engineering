{
 "cells": [
  {
   "cell_type": "code",
   "execution_count": 1,
   "id": "5f025218",
   "metadata": {},
   "outputs": [],
   "source": [
    "import requests\n",
    "import psycopg2\n",
    "from psycopg2.extras import execute_values\n",
    "import uuid"
   ]
  },
  {
   "cell_type": "code",
   "execution_count": 4,
   "id": "50b6726f",
   "metadata": {},
   "outputs": [],
   "source": [
    "url = 'https://randomuser.me/api/?results=5000'"
   ]
  },
  {
   "cell_type": "code",
   "execution_count": 5,
   "id": "c7620008",
   "metadata": {},
   "outputs": [],
   "source": [
    "response=requests.get(url).json()"
   ]
  },
  {
   "cell_type": "code",
   "execution_count": 6,
   "id": "a2530a7a",
   "metadata": {},
   "outputs": [],
   "source": [
    "response = response['results']"
   ]
  },
  {
   "cell_type": "code",
   "execution_count": 7,
   "id": "a4a69bfc",
   "metadata": {},
   "outputs": [
    {
     "data": {
      "text/plain": [
       "{'gender': 'male',\n",
       " 'name': {'title': 'Mr', 'first': 'بردیا', 'last': 'زارعی'},\n",
       " 'location': {'street': {'number': 277, 'name': 'شهید ثانی'},\n",
       "  'city': 'اهواز',\n",
       "  'state': 'مرکزی',\n",
       "  'country': 'Iran',\n",
       "  'postcode': 64105,\n",
       "  'coordinates': {'latitude': '22.0361', 'longitude': '-40.0497'},\n",
       "  'timezone': {'offset': '+4:00',\n",
       "   'description': 'Abu Dhabi, Muscat, Baku, Tbilisi'}},\n",
       " 'email': 'brdy.zraay@example.com',\n",
       " 'login': {'uuid': 'ad0ae47f-f8fd-469e-b79b-77230307fe13',\n",
       "  'username': 'bigmeercat564',\n",
       "  'password': 'campbell',\n",
       "  'salt': '7LLOx7Gv',\n",
       "  'md5': 'c791da36b2d571c175b9d46af3952c7b',\n",
       "  'sha1': '03b18ced360246d8901c7503b3e421199937411f',\n",
       "  'sha256': 'f41cb31fefdaaafd75ab3467db1730aae56cc799ac69162f7cb72ccce1cbb9f2'},\n",
       " 'dob': {'date': '1964-02-28T22:05:18.819Z', 'age': 60},\n",
       " 'registered': {'date': '2015-06-27T13:24:34.689Z', 'age': 9},\n",
       " 'phone': '013-60268990',\n",
       " 'cell': '0980-454-3068',\n",
       " 'id': {'name': '', 'value': None},\n",
       " 'picture': {'large': 'https://randomuser.me/api/portraits/men/89.jpg',\n",
       "  'medium': 'https://randomuser.me/api/portraits/med/men/89.jpg',\n",
       "  'thumbnail': 'https://randomuser.me/api/portraits/thumb/men/89.jpg'},\n",
       " 'nat': 'IR'}"
      ]
     },
     "execution_count": 7,
     "metadata": {},
     "output_type": "execute_result"
    }
   ],
   "source": [
    "response[5]"
   ]
  },
  {
   "cell_type": "code",
   "execution_count": 17,
   "id": "f9c49940",
   "metadata": {},
   "outputs": [],
   "source": [
    "dataset = []\n",
    "for res in response:\n",
    "    data = {}\n",
    "    location = res['location']\n",
    "    \n",
    "    data['id'] = uuid.uuid4()\n",
    "    data['first_name'] = res['name']['first']\n",
    "    data['last_name'] = res['name']['last']\n",
    "    data['gender'] = res['gender']\n",
    "    data['street_address'] = f\"{str(location['street']['number'])} {location['street']['name']}\"\n",
    "    data['city'] = location['city']\n",
    "    data['state'] = location['state']\n",
    "    data['country'] = location['country']\n",
    "    data['postal_code'] = location['postcode']\n",
    "    data['email'] = res['email']\n",
    "    data['username'] = res['login']['username']\n",
    "    data['dob'] = res['dob']['date']\n",
    "    data['registered_date'] = res['registered']['date']\n",
    "    data['phone'] = res['phone']\n",
    "    data['picture'] = res['picture']['medium']\n",
    "    \n",
    "    dataset.append(data)\n",
    "    \n",
    "ids = [str(data[\"id\"]) for data in dataset]\n",
    "    \n",
    "dataset = [\n",
    "        (\n",
    "            str(user['id']),\n",
    "            user['first_name'],\n",
    "            user['last_name'],\n",
    "            user['gender'],\n",
    "            user['street_address'],\n",
    "            user['city'],\n",
    "            user['state'],\n",
    "            user['country'],\n",
    "            str(user['postal_code']),\n",
    "            user['email'],\n",
    "            user['username'],\n",
    "            user['dob'],\n",
    "            user['registered_date'],\n",
    "            user['phone'],\n",
    "            user['picture']\n",
    "        )\n",
    "        for user in dataset\n",
    "    ]"
   ]
  },
  {
   "cell_type": "code",
   "execution_count": 19,
   "id": "57498c80",
   "metadata": {},
   "outputs": [
    {
     "data": {
      "text/plain": [
       "5000"
      ]
     },
     "execution_count": 19,
     "metadata": {},
     "output_type": "execute_result"
    }
   ],
   "source": [
    "len(ids)"
   ]
  },
  {
   "cell_type": "code",
   "execution_count": 11,
   "id": "ba8ddc04",
   "metadata": {},
   "outputs": [],
   "source": [
    "db_config = {\n",
    "    \"dbname\": \"postgres\",\n",
    "    \"user\": \"postgres\",\n",
    "    \"password\": \"postgres\",\n",
    "    \"host\": \"localhost\",  # or the host of your PostgreSQL server\n",
    "    \"port\": 5432  # default PostgreSQL port\n",
    "}\n",
    "\n",
    "\n",
    "# Connect to the database\n",
    "connection = psycopg2.connect(**db_config)\n",
    "cursor = connection.cursor()\n",
    "\n"
   ]
  },
  {
   "cell_type": "code",
   "execution_count": 13,
   "id": "8d373985",
   "metadata": {},
   "outputs": [
    {
     "name": "stdout",
     "output_type": "stream",
     "text": [
      "Users table created successfully.\n"
     ]
    }
   ],
   "source": [
    "##### Create the users table\n",
    "connection.rollback()\n",
    "\n",
    "create_table_query = \"\"\"\n",
    "\n",
    "CREATE TABLE IF NOT EXISTS users (\n",
    "    id UUID PRIMARY KEY,\n",
    "    first_name VARCHAR(255),\n",
    "    last_name VARCHAR(255),\n",
    "    gender VARCHAR(255),\n",
    "    street_address VARCHAR(255),\n",
    "    city VARCHAR(255),\n",
    "    state VARCHAR(255),\n",
    "    country VARCHAR(255),\n",
    "    postal_code VARCHAR(255),\n",
    "    email VARCHAR(255),\n",
    "    username VARCHAR(255),\n",
    "    date_of_birth TIMESTAMPTZ,\n",
    "    registered_date TIMESTAMPTZ,\n",
    "    phone VARCHAR(255),\n",
    "    picture VARCHAR(255)\n",
    "\n",
    ");\n",
    "\"\"\"\n",
    "cursor.execute(create_table_query)\n",
    "connection.commit()\n",
    "print(\"Users table created successfully.\")\n",
    "connection.commit()\n"
   ]
  },
  {
   "cell_type": "code",
   "execution_count": 14,
   "id": "8a7dfac0",
   "metadata": {},
   "outputs": [],
   "source": [
    "# Insert a few entries\n",
    "insert_query = \"\"\"\n",
    "    INSERT INTO users (\n",
    "        id, first_name, last_name, gender, street_address,city,state,country, postal_code, email, username, \n",
    "        date_of_birth, registered_date, phone, picture\n",
    "    ) VALUES %s\n",
    "    \"\"\"\n",
    "\n",
    "\n",
    "execute_values(cursor, insert_query, dataset)\n",
    "connection.commit()"
   ]
  },
  {
   "cell_type": "code",
   "execution_count": null,
   "id": "c3e17a3c",
   "metadata": {},
   "outputs": [],
   "source": []
  }
 ],
 "metadata": {
  "kernelspec": {
   "display_name": "Python 3 (ipykernel)",
   "language": "python",
   "name": "python3"
  },
  "language_info": {
   "codemirror_mode": {
    "name": "ipython",
    "version": 3
   },
   "file_extension": ".py",
   "mimetype": "text/x-python",
   "name": "python",
   "nbconvert_exporter": "python",
   "pygments_lexer": "ipython3",
   "version": "3.9.13"
  }
 },
 "nbformat": 4,
 "nbformat_minor": 5
}
